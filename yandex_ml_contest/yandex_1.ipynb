{
 "cells": [
  {
   "cell_type": "code",
   "execution_count": 10,
   "id": "49a51009",
   "metadata": {},
   "outputs": [],
   "source": [
    "import numpy as np\n",
    "from numpy.random import uniform\n",
    "from math import cos, sin, pi"
   ]
  },
  {
   "cell_type": "code",
   "execution_count": 11,
   "id": "8ec407b7",
   "metadata": {},
   "outputs": [],
   "source": [
    "def generate1():  \n",
    "    a = uniform(0, 1)  \n",
    "    b = uniform(0, 1)  \n",
    "    return (a * cos(2 * pi * b), a * sin(2 * pi * b))\n",
    "\n",
    "def generate2():  \n",
    "    while True:  \n",
    "        x = uniform(-1, 1)  \n",
    "        y = uniform(-1, 1)  \n",
    "        if x ** 2 + y ** 2 > 1:  \n",
    "            continue  \n",
    "        return (x, y)"
   ]
  },
  {
   "cell_type": "code",
   "execution_count": 13,
   "id": "ad6d3757",
   "metadata": {},
   "outputs": [],
   "source": [
    "data_1 = [generate1() for i in range(100)]"
   ]
  },
  {
   "cell_type": "code",
   "execution_count": 14,
   "id": "41280a98",
   "metadata": {},
   "outputs": [],
   "source": [
    "dt1 = {'x':[],\n",
    "      'y':[]}\n",
    "for point in data_1:\n",
    "    dt1['x'].append(point[0])\n",
    "    dt1['y'].append(point[1])"
   ]
  },
  {
   "cell_type": "code",
   "execution_count": 16,
   "id": "081bed7c",
   "metadata": {},
   "outputs": [],
   "source": [
    "import matplotlib.pyplot as plt"
   ]
  },
  {
   "cell_type": "code",
   "execution_count": 18,
   "id": "2c03151e",
   "metadata": {},
   "outputs": [
    {
     "data": {
      "text/plain": [
       "<matplotlib.collections.PathCollection at 0x18335ade190>"
      ]
     },
     "execution_count": 18,
     "metadata": {},
     "output_type": "execute_result"
    },
    {
     "data": {
      "image/png": "[encoded data removed]",
      "text/plain": [
       "<Figure size 432x288 with 1 Axes>"
      ]
     },
     "metadata": {
      "needs_background": "light"
     },
     "output_type": "display_data"
    }
   ],
   "source": [
    "plt.scatter(dt1['x'], dt1['y'])"
   ]
  },
  {
   "cell_type": "code",
   "execution_count": 19,
   "id": "3d54792c",
   "metadata": {},
   "outputs": [
    {
     "data": {
      "text/plain": [
       "array([[ 0.146596  , -0.00693526],\n",
       "       [-0.00693526,  0.14924458]])"
      ]
     },
     "execution_count": 19,
     "metadata": {},
     "output_type": "execute_result"
    }
   ],
   "source": [
    "np.cov(dt1['x'], dt1['y'])"
   ]
  },
  {
   "cell_type": "code",
   "execution_count": 20,
   "id": "0abfce3b",
   "metadata": {},
   "outputs": [
    {
     "data": {
      "text/plain": [
       "0.021830560262269823"
      ]
     },
     "execution_count": 20,
     "metadata": {},
     "output_type": "execute_result"
    }
   ],
   "source": [
    "np.linalg.det(np.cov(dt1['x'], dt1['y']))"
   ]
  },
  {
   "cell_type": "code",
   "execution_count": 28,
   "id": "2315b97e",
   "metadata": {},
   "outputs": [],
   "source": [
    "def get_dets(generator):\n",
    "    dets = []\n",
    "    for i in range(100):\n",
    "        data = [generator() for i in range(500)]\n",
    "        dt = {'x':[],\n",
    "              'y':[]}\n",
    "        for point in data:\n",
    "            dt['x'].append(point[0])\n",
    "            dt['y'].append(point[1])\n",
    "        dets.append(np.linalg.det(np.cov(dt['x'], dt['y'])))\n",
    "    return dets"
   ]
  },
  {
   "cell_type": "code",
   "execution_count": 29,
   "id": "a2a3c57d",
   "metadata": {},
   "outputs": [],
   "source": [
    "dets1 = get_dets(generate1)\n",
    "dets2 = get_dets(generate2)"
   ]
  },
  {
   "cell_type": "code",
   "execution_count": 32,
   "id": "69bbbc1f",
   "metadata": {},
   "outputs": [
    {
     "data": {
      "image/png": "[encoded data removed]",
      "text/plain": [
       "<Figure size 432x288 with 1 Axes>"
      ]
     },
     "metadata": {
      "needs_background": "light"
     },
     "output_type": "display_data"
    }
   ],
   "source": [
    "plt.scatter(np.arange(len(dets1)), dets1, label='gen1')\n",
    "plt.scatter(np.arange(len(dets2)), dets2, label='gen2')\n",
    "plt.legend();"
   ]
  },
  {
   "cell_type": "code",
   "execution_count": 34,
   "id": "85ea1c73",
   "metadata": {},
   "outputs": [
    {
     "data": {
      "text/plain": [
       "0.03407625625102866"
      ]
     },
     "execution_count": 34,
     "metadata": {},
     "output_type": "execute_result"
    }
   ],
   "source": [
    "a = max(dets1)\n",
    "a"
   ]
  },
  {
   "cell_type": "code",
   "execution_count": 35,
   "id": "e3ebfd2b",
   "metadata": {},
   "outputs": [
    {
     "data": {
      "text/plain": [
       "0.054445170239391515"
      ]
     },
     "execution_count": 35,
     "metadata": {},
     "output_type": "execute_result"
    }
   ],
   "source": [
    "b = min(dets2)\n",
    "b"
   ]
  },
  {
   "cell_type": "code",
   "execution_count": 37,
   "id": "0ae42ec1",
   "metadata": {},
   "outputs": [
    {
     "data": {
      "text/plain": [
       "0.04426071324521009"
      ]
     },
     "execution_count": 37,
     "metadata": {},
     "output_type": "execute_result"
    }
   ],
   "source": [
    "treshold = (a+b)/2\n",
    "treshold"
   ]
  },
  {
   "cell_type": "code",
   "execution_count": 38,
   "id": "a113b061",
   "metadata": {},
   "outputs": [
    {
     "ename": "FileNotFoundError",
     "evalue": "[Errno 2] No such file or directory: 'input.txt'",
     "output_type": "error",
     "traceback": [
      "\u001b[1;31m---------------------------------------------------------------------------\u001b[0m",
      "\u001b[1;31mFileNotFoundError\u001b[0m                         Traceback (most recent call last)",
      "\u001b[1;32m~\\AppData\\Local\\Temp/ipykernel_10680/279555518.py\u001b[0m in \u001b[0;36m<module>\u001b[1;34m\u001b[0m\n\u001b[0;32m      3\u001b[0m \u001b[0mdets\u001b[0m \u001b[1;33m=\u001b[0m \u001b[1;33m[\u001b[0m\u001b[1;33m]\u001b[0m\u001b[1;33m\u001b[0m\u001b[1;33m\u001b[0m\u001b[0m\n\u001b[0;32m      4\u001b[0m \u001b[1;33m\u001b[0m\u001b[0m\n\u001b[1;32m----> 5\u001b[1;33m \u001b[1;32mwith\u001b[0m \u001b[0mopen\u001b[0m\u001b[1;33m(\u001b[0m\u001b[1;34m\"input.txt\"\u001b[0m\u001b[1;33m)\u001b[0m \u001b[1;32mas\u001b[0m \u001b[0mf\u001b[0m\u001b[1;33m:\u001b[0m\u001b[1;33m\u001b[0m\u001b[1;33m\u001b[0m\u001b[0m\n\u001b[0m\u001b[0;32m      6\u001b[0m     \u001b[1;32mfor\u001b[0m \u001b[0mline\u001b[0m \u001b[1;32min\u001b[0m \u001b[0mf\u001b[0m\u001b[1;33m:\u001b[0m\u001b[1;33m\u001b[0m\u001b[1;33m\u001b[0m\u001b[0m\n\u001b[0;32m      7\u001b[0m         \u001b[0mpoints\u001b[0m \u001b[1;33m=\u001b[0m \u001b[0mlist\u001b[0m\u001b[1;33m(\u001b[0m\u001b[0mmap\u001b[0m\u001b[1;33m(\u001b[0m\u001b[0mfloat\u001b[0m\u001b[1;33m,\u001b[0m \u001b[0mline\u001b[0m\u001b[1;33m.\u001b[0m\u001b[0msplit\u001b[0m\u001b[1;33m(\u001b[0m\u001b[1;33m)\u001b[0m\u001b[1;33m)\u001b[0m\u001b[1;33m)\u001b[0m\u001b[1;33m\u001b[0m\u001b[1;33m\u001b[0m\u001b[0m\n",
      "\u001b[1;31mFileNotFoundError\u001b[0m: [Errno 2] No such file or directory: 'input.txt'"
     ]
    }
   ],
   "source": [
    "import numpy as np\n",
    "\n",
    "dets = []\n",
    "\n",
    "with open(\"input.txt\") as f:\n",
    "    for line in f:\n",
    "        points = list(map(float, line.split()))\n",
    "        Xs = points[::2]\n",
    "        Ys = points[1::2]\n",
    "        cov = np.cov(Xs, Ys)\n",
    "        dets.append(np.linalg.det(cov))\n",
    "        \n",
    "treshold = 0.0442607\n",
    "\n",
    "for i in dets:\n",
    "    if i < treshold:\n",
    "        print(1)\n",
    "    else:\n",
    "        print(2)"
   ]
  },
  {
   "cell_type": "code",
   "execution_count": null,
   "id": "3b20026b",
   "metadata": {},
   "outputs": [],
   "source": []
  }
 ],
 "metadata": {
  "kernelspec": {
   "display_name": "Python 3 (ipykernel)",
   "language": "python",
   "name": "python3"
  },
  "language_info": {
   "codemirror_mode": {
    "name": "ipython",
    "version": 3
   },
   "file_extension": ".py",
   "mimetype": "text/x-python",
   "name": "python",
   "nbconvert_exporter": "python",
   "pygments_lexer": "ipython3",
   "version": "3.9.7"
  }
 },
 "nbformat": 4,
 "nbformat_minor": 5
}
